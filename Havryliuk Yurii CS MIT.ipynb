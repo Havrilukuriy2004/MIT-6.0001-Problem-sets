{
 "cells": [
  {
   "cell_type": "markdown",
   "id": "ed3d4c86",
   "metadata": {},
   "source": [
    "# Problem Set 0"
   ]
  },
  {
   "cell_type": "markdown",
   "id": "077731d3",
   "metadata": {},
   "source": [
    "## Task1"
   ]
  },
  {
   "cell_type": "markdown",
   "id": "36c06173",
   "metadata": {},
   "source": [
    "Write a program that does the following in order:\n",
    "1. Asks the user to enter a number “x”\n",
    "2. Asks the user to enter a number “y”\n",
    "3. Prints out number “x”, raised to the power “y”.\n",
    "4. Prints out the log (base 2) of “x”.\n",
    "\n",
    "#### Example of work:\n",
    "\n",
    "- Enter number x: 2\n",
    "- Enter number y: 3\n",
    "- X**y = 8\n",
    "- log(x) = 1"
   ]
  },
  {
   "cell_type": "markdown",
   "id": "e1236728",
   "metadata": {},
   "source": [
    "### Solution\n",
    "In Python we use ** for raise number (for example x) to the power (for example y) \n",
    "$$x^y=x**y$$\n",
    "\n",
    "In Python we use function math.log() for compute the natural logarithm of a number. \n",
    "\n",
    "And we can move to a new foundation by using this formula:\n",
    "$$\\log_a{b}=\\frac{\\log_c{b}}{\\log_c{a}}$$\n",
    "And we get:\n",
    "$$\\log_2{x}=\\frac{\\ln{x}}{\\ln{2}}$$"
   ]
  },
  {
   "cell_type": "code",
   "execution_count": 10,
   "id": "979f7c2b",
   "metadata": {},
   "outputs": [],
   "source": [
    "import math "
   ]
  },
  {
   "cell_type": "code",
   "execution_count": 19,
   "id": "c24beb58",
   "metadata": {},
   "outputs": [],
   "source": [
    "x=2\n",
    "y=3"
   ]
  },
  {
   "cell_type": "code",
   "execution_count": null,
   "id": "b55ebfae",
   "metadata": {},
   "outputs": [],
   "source": [
    "#x=float(input('Enter number x: ')\n",
    "#y=float(input('Enter number x: ')\n",
    "\n",
    "print (\"x**y=\",x**y)\n",
    "log2 = math.log(x)/math.log(2)\n",
    "print (\"log(x)=\",log2)"
   ]
  },
  {
   "cell_type": "markdown",
   "id": "c0b96e2c",
   "metadata": {},
   "source": [
    "# Problem set 1"
   ]
  },
  {
   "cell_type": "markdown",
   "id": "5862775a",
   "metadata": {},
   "source": [
    "## Part A : House Hunting"
   ]
  },
  {
   "cell_type": "markdown",
   "id": "a5ed4eb9",
   "metadata": {},
   "source": [
    "You have graduated from MIT and now have a great job! You move to the San Francisco Bay Area and\n",
    "decide that you want to start saving to buy a house.  As housing prices are very high in the Bay Area,\n",
    "you realize you are going to have to save for several years before you can afford to make the down\n",
    "payment on a house. In Part A, we are going to determine how long it will take you to save enough\n",
    "money to make the down payment given the following assumptions:\n",
    "1. Call the cost of your dream home total_cost.\n",
    "2. Call the portion of the cost needed for a down payment portion_down_payment. For simplicity, assume that portion_down_payment = 0.25 (25%).\n",
    "3. Call the amount that you have saved thus far current_savings. You start with a current savings of $0. \n",
    "4. Assume that you invest your current savings wisely, with an annual return of r (in other words, at the end of each month, you receive an additional $$current {savings}*\\frac{r}{12}$$ funds to put into your savings – the 12 is because r is an annual rate). Assume that your investments earn a  return of r = 0.04 (4%).\n",
    "5. Assume your annual salary is annual_salary.\n",
    "6. Assume you are going to dedicate a certain amount of your salary each month to saving for  the down payment. Call that portion_saved. This variable should be in decimal form (i.e. 0.1 for 10%). \n",
    "7. At the end of each month, your savings will be increased by the return on your investment,\n",
    "plus a percentage of your monthly salary (annual salary / 12).\n",
    "\n",
    "#### Input\n",
    "\n",
    "Your program should ask the user to enter the following variables:\n",
    "1. The starting annual salary (annual_salary)\n",
    "2. The portion of salary to be saved (portion_saved)\n",
    "3. The cost of your dream home (total_cost)\n",
    "\n",
    "#### Test Case 1 \n",
    "- Enter your annual salary: 120000\n",
    "- Enter the percent of your salary to save, as a decimal: .10\n",
    "- Enter the cost of your dream home: 1000000\n",
    "- Number of months: 183 \n",
    "\n",
    "\n",
    "#### Test Case 2 \n",
    "- Enter your annual salary: 80000 \n",
    "- Enter the percent of your salary to save, as a decimal: .15\n",
    "- Enter the cost of your dream home: 500000\n",
    "- Number of months: 105\n"
   ]
  },
  {
   "cell_type": "markdown",
   "id": "01dce1d8",
   "metadata": {},
   "source": [
    "### Hints\n",
    "\n",
    "To help you get started, here is a rough outline of the stages you should probably follow in writing your\n",
    "code:\n",
    "\n",
    "● Retrieve user input. Look at input() if you need help with getting user input. For this problem set,\n",
    "you can assume that users will enter valid input (e.g. they won’t enter a string when you expect \n",
    "an int) \n",
    "\n",
    "● Initialize some state variables. You should decide what information you need.  Be careful about\n",
    "values that represent annual amounts and those that represent monthly amounts."
   ]
  },
  {
   "cell_type": "markdown",
   "id": "6059d75a",
   "metadata": {},
   "source": [
    "### Solution\n",
    "In $n$ month we will get:\n",
    "$$S= p\\cdot M\\cdot \\sum_{k=0}^{n}{ (1+\\frac{r}{12})^k}$$\n",
    "where \n",
    "\n",
    "S - current saving \n",
    "\n",
    "M - monthly salary\n",
    "\n",
    "r - annual return of investing\n",
    "\n",
    "p - certain amount of your salary\n",
    "\n",
    "#### We have to find such k that current saving >= down payment  "
   ]
  },
  {
   "cell_type": "code",
   "execution_count": 37,
   "id": "255715c1",
   "metadata": {},
   "outputs": [],
   "source": [
    "import math "
   ]
  },
  {
   "cell_type": "code",
   "execution_count": 1,
   "id": "9f162954",
   "metadata": {},
   "outputs": [],
   "source": [
    "# Test Case 1\n",
    "annual_salary = 120000\n",
    "portion_saved = 0.1\n",
    "total_cost = 1000000 "
   ]
  },
  {
   "cell_type": "code",
   "execution_count": null,
   "id": "28921493",
   "metadata": {},
   "outputs": [],
   "source": [
    "# Test Case 2\n",
    "annual_salary = 80000\n",
    "portion_saved = .15\n",
    "total_cost = 500000"
   ]
  },
  {
   "cell_type": "code",
   "execution_count": 2,
   "id": "72991084",
   "metadata": {},
   "outputs": [
    {
     "name": "stdout",
     "output_type": "stream",
     "text": [
      "Number of months: 183\n"
     ]
    }
   ],
   "source": [
    "#annual_salary=float(input('Enter your annual salary:')\n",
    "#portion_saved=float(input('Enter the percent of your salary to save, as a decimal:')\n",
    "#total_cost=float(input('Enter the cost of your dream home:')\n",
    "\n",
    "portion_down_payment = 0.25\n",
    "current_saving = 0\n",
    "down_payment = portion_down_payment*total_cost\n",
    "r=0.04\n",
    "monthly_salary=annual_salary/12\n",
    "k=0\n",
    "\n",
    "while True:\n",
    "    k+=1\n",
    "    current_saving+=current_saving*r/12\n",
    "    current_saving+=monthly_salary*portion_saved\n",
    "    if current_saving>=down_payment:\n",
    "        break\n",
    "\n",
    "\n",
    "print(\"Number of months:\",k)"
   ]
  },
  {
   "cell_type": "markdown",
   "id": "f9a3bb91",
   "metadata": {},
   "source": [
    "## Part B: Saving, with a raise"
   ]
  },
  {
   "cell_type": "markdown",
   "id": "b0528d80",
   "metadata": {},
   "source": [
    "### Background \n",
    "In Part A, we unrealistically assumed that your salary didn’t change.  But you are an MIT graduate, and\n",
    "clearly you are going to be worth more to your company over time! So we are going to build on your\n",
    "solution to Part A by factoring in a raise every six months. \n",
    "In ps1b.py, copy your solution to Part A (as we are going to reuse much of that machinery).  Modify\n",
    "your program to include the following\n",
    "1. Have the user input a semi-annual salary raise semi_annual_raise (as a decimal percentage)\n",
    "2. After the 6th month, increase your salary by that percentage.  Do the same after the 12\n",
    "th\n",
    "th\n",
    "month, the 18  month, and so on. \n",
    "Write a program to calculate how many months it will take you save up enough money for a down\n",
    "payment.  LIke before, assume that your investments earn a return of r = 0.04 (or 4%) and the\n",
    "required down payment percentage is 0.25 (or 25%).  Have the user enter the following variables:\n",
    "1. The starting annual salary (annual_salary)\n",
    "2. The percentage of salary to be saved (portion_saved)\n",
    "3. The cost of your dream home (total_cost)\n",
    "4. The semi-annual salary raise (semi_annual_raise)\n",
    "### Hints\n",
    "\n",
    "To help you get started, here is a rough outline of the stages you should probably follow in writing your\n",
    "code:\n",
    "\n",
    "● Retrieve user input. \n",
    "\n",
    "● Initialize some state variables. You should decide what information you need.  Be sure to be\n",
    "careful about values that represent annual amounts and those that represent monthly amounts.\n",
    "\n",
    "● Be careful about when you increase your salary – this should only happen after the 6th, 12th, 18\n",
    "th\n",
    "month, and so on. \n",
    "\n",
    "#### Test Case 1 \n",
    " \n",
    "- Enter your starting annual salary: 120000\n",
    "- Enter the percent of your salary to save, as a decimal: .05\n",
    "- Enter the cost of your dream home: 500000\n",
    "- Enter the semi-annual raise, as a decimal: .03\n",
    "- Number of months: 142 \n",
    "\n",
    "#### Test Case 2 \n",
    "\n",
    "- Enter your starting annual salary: 80000\n",
    "- Enter the percent of your salary to save, as a decimal: .1\n",
    "- Enter the cost of your dream home: 800000\n",
    "- Enter the semi-annual raise, as a decimal: .03\n",
    "- Number of months: 159 \n",
    "\n",
    "#### Test Case 3 \n",
    " \n",
    "- Enter your starting annual salary: 75000\n",
    "- Enter the percent of your salary to save, as a decimal: .05\n",
    "- Enter the cost of your dream home: 1500000\n",
    "- Enter the semi-annual raise, as a decimal: .05\n",
    "- Number of months: 261 \n"
   ]
  },
  {
   "cell_type": "markdown",
   "id": "9d8264eb",
   "metadata": {},
   "source": [
    "### Solution\n",
    "In $n$ month we will get:\n",
    "$$S= p\\cdot M \\cdot \\sum_{k=0}^{n}{ \\left ( 1+\\frac{r}{12} \\right )^k\\cdot (1+m)^{\\lfloor \\frac{k}{6}\\rfloor}}$$\n",
    "where \n",
    "\n",
    "S - current saving \n",
    "\n",
    "M - starting monthly salary\n",
    "\n",
    "m - percent of your salary to save, as a decimal\n",
    "\n",
    "r - annual return of investing\n",
    "\n",
    "p - certain amount of your salary\n",
    "\n",
    "#### We have to find such k that current saving >= down payment "
   ]
  },
  {
   "cell_type": "code",
   "execution_count": null,
   "id": "a0051b46",
   "metadata": {},
   "outputs": [],
   "source": [
    "import math "
   ]
  },
  {
   "cell_type": "code",
   "execution_count": 3,
   "id": "e05eb243",
   "metadata": {},
   "outputs": [],
   "source": [
    "# Test Case 1\n",
    "annual_salary = 120000\n",
    "portion_saved = 0.05\n",
    "total_cost = 500000 \n",
    "semi_annual_raise=.03"
   ]
  },
  {
   "cell_type": "code",
   "execution_count": 7,
   "id": "e6a4dca3",
   "metadata": {},
   "outputs": [],
   "source": [
    "# Test Case 2\n",
    "annual_salary = 80000\n",
    "portion_saved = 0.1\n",
    "total_cost = 800000 \n",
    "semi_annual_raise=.03"
   ]
  },
  {
   "cell_type": "code",
   "execution_count": 5,
   "id": "d7eebc96",
   "metadata": {},
   "outputs": [],
   "source": [
    "# Test Case 3\n",
    "annual_salary = 75000\n",
    "portion_saved = 0.05\n",
    "total_cost = 1500000\n",
    "semi_annual_raise=.05"
   ]
  },
  {
   "cell_type": "code",
   "execution_count": 8,
   "id": "0542e0a3",
   "metadata": {},
   "outputs": [
    {
     "name": "stdout",
     "output_type": "stream",
     "text": [
      "Number of months: 159\n"
     ]
    }
   ],
   "source": [
    "#annual_salary=float(input('Enter your annual salary:')\n",
    "#portion_saved=float(input('Enter the percent of your salary to save, as a decimal:')\n",
    "#total_cost=float(input('Enter the cost of your dream home:')\n",
    "\n",
    "portion_down_payment = 0.25\n",
    "current_saving = 0\n",
    "down_payment = portion_down_payment*total_cost\n",
    "r=0.04\n",
    "monthly_salary=annual_salary/12\n",
    "k=0\n",
    "\n",
    "while True:\n",
    "    k+=1\n",
    "    current_saving+=current_saving*r/12\n",
    "    current_saving+=monthly_salary*portion_saved\n",
    "    if k%6 == 0:\n",
    "        monthly_salary+=monthly_salary*semi_annual_raise \n",
    "    if current_saving>=down_payment:\n",
    "        break\n",
    "\n",
    "\n",
    "print(\"Number of months:\",k)"
   ]
  },
  {
   "cell_type": "markdown",
   "id": "9097c006",
   "metadata": {},
   "source": [
    "## Part C: Finding the right amount to save away\n",
    "In Part B, you had a chance to explore how both the percentage of your salary that you save each month \n",
    "and your annual raise affect how long it takes you to save for a down payment.  This is nice, but\n",
    "suppose you want to set a particular goal, e.g. to be able to afford the down payment in three years.\n",
    "How much should you save each month to achieve this?  In this problem, you are going to write a \n",
    "program to answer that question.  To simplify things, assume:\n",
    "\n",
    "1. Your semi­annual raise is .07 (7%)\n",
    "2. Your investments have an annual return of 0.04 (4%)  \n",
    "3. The down payment is 0.25 (25%) of the cost of the house \n",
    "4. The cost of the house that you are saving for is $1M.\n",
    "\n",
    "You are now going to try to find the best rate of savings to achieve a down payment on a 1M USD house in \n",
    "36 months. Since hitting this exactly is a challenge, we simply want your savings to be within 100 USD of \n",
    "the required down payment. \n",
    "\n",
    "In ps1c.py, write a program to calculate the best savings rate, as a function of your starting salary.\n",
    "You should use bisection search to help you do this efficiently. You should keep track of the number of \n",
    "steps it takes your bisections search to finish. You should be able to reuse some of the code you wrote\n",
    "for part B in this problem.\n",
    "\n",
    "Because we are searching for a value that is in principle a float, we are going to limit ourselves to two\n",
    "decimals of accuracy (i.e., we may want to save at 7.04%  or 0.0704 in decimal – but we are not \n",
    "going to worry about the difference between 7.041% and 7.039%).  This means we can search for an\n",
    "integer between 0 and 10000 (using integer division), and then convert it to a decimal percentage\n",
    "(using float division) to use when we are calculating the current_savings after 36 months. By using\n",
    "this range, there are only a finite number of numbers that we are searching over, as opposed to the\n",
    "infinite number of decimals between 0 and 1. This range will help prevent infinite loops. The reason we\n",
    "use 0 to 10000 is to account for two additional decimal places in the range 0% to 100%. Your code\n",
    "should print out a decimal (e.g. 0.0704 for 7.04%).\n",
    "\n",
    "Try different inputs for your starting salary, and see how the percentage you need to save changes to\n",
    "reach your desired down payment.  Also keep in mind it may not be possible for to save a down\n",
    "payment in a year and a half for some salaries. In this case your function should notify the user that it \n",
    "is not possible to save for the down payment in 36 months with a print statement. Please make your\n",
    "program print results in the format shown in the test cases below.   \n",
    "Note: There are multiple right ways to implement bisection search/number of steps so your\n",
    "results may not perfectly match those of the test case. \n"
   ]
  },
  {
   "cell_type": "markdown",
   "id": "8a860a7b",
   "metadata": {},
   "source": [
    "### Hints\n",
    "● There may be multiple savings rates that yield a savings amount that is within 100 USD of the\n",
    "required down payment on a 1M USD house. In this case, you can just return any of the possible\n",
    "values.\n",
    "\n",
    "● Depending on your stopping condition and how you compute a trial value for bisection search,\n",
    "your number of steps may vary slightly from the example test cases.\n",
    "\n",
    "● Watch out for integer division when calculating if a percentage saved is appropriate and when\n",
    "calculating final decimal percentage savings rate.\n",
    "\n",
    "● Remember to reset the appropriate variable(s) to their initial values for each iteration of bisection\n",
    "search."
   ]
  },
  {
   "cell_type": "markdown",
   "id": "c31f6979",
   "metadata": {},
   "source": [
    "#### Test Case 1 \n",
    "\n",
    "- Enter the starting salary: 150000\n",
    "- Best savings rate: 0.4411  \n",
    "- Steps in bisection search: 12 \n",
    "\n",
    "#### Test Case 2 \n",
    "\n",
    "- Enter the starting salary: 300000\n",
    "- Best savings rate: 0.2206 \n",
    "- Steps in bisection search: 9 \n",
    "\n",
    "#### Test Case 3 \n",
    "  \n",
    "- Enter the starting salary: 10000\n",
    "- It is not possible to pay the down payment in three years.\n"
   ]
  },
  {
   "cell_type": "markdown",
   "id": "8491b564",
   "metadata": {},
   "source": [
    "In this problem we have to find which values of saving rate so that their difference tends to 0.01%\n",
    "$$|min.saved.portion-max.saved.portion|\\rightarrow 1$$\n",
    "##### where\n",
    "\n",
    "min.saved.portion - which "
   ]
  },
  {
   "cell_type": "code",
   "execution_count": null,
   "id": "f49d05ae",
   "metadata": {},
   "outputs": [],
   "source": [
    "import math "
   ]
  },
  {
   "cell_type": "code",
   "execution_count": null,
   "id": "7d113b7a",
   "metadata": {},
   "outputs": [],
   "source": [
    "annual_salary = 120000"
   ]
  },
  {
   "cell_type": "code",
   "execution_count": null,
   "id": "4ec70ccf",
   "metadata": {},
   "outputs": [],
   "source": [
    "portion_saved = 0.05\n",
    "total_cost = 500000 \n",
    "semi_annual_raise=.03\n",
    "portion_down_payment = 0.25\n",
    "current_saving = 0\n",
    "down_payment = portion_down_payment*total_cost\n",
    "r=0.04\n",
    "monthly_salary=annual_salary/12\n",
    "\n"
   ]
  },
  {
   "cell_type": "code",
   "execution_count": null,
   "id": "22020af4",
   "metadata": {},
   "outputs": [],
   "source": []
  }
 ],
 "metadata": {
  "kernelspec": {
   "display_name": "Python 3 (ipykernel)",
   "language": "python",
   "name": "python3"
  },
  "language_info": {
   "codemirror_mode": {
    "name": "ipython",
    "version": 3
   },
   "file_extension": ".py",
   "mimetype": "text/x-python",
   "name": "python",
   "nbconvert_exporter": "python",
   "pygments_lexer": "ipython3",
   "version": "3.9.7"
  }
 },
 "nbformat": 4,
 "nbformat_minor": 5
}
